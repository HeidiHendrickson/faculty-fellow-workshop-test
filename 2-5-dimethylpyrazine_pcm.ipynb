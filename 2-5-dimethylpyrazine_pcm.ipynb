{
 "cells": [
  {
   "cell_type": "code",
   "execution_count": 4,
   "metadata": {},
   "outputs": [],
   "source": [
    "import numpy as np\n",
    "import matplotlib.pyplot as plt\n",
    "\n",
    "## Physical constants\n",
    "planck = 6.62607015*10**(-34) #J*s\n",
    "c_light = 2.99792458*10**8 #m/s\n",
    "nm_m = 10**(-9)\n",
    "ev_J = 1.602176634*10**(-19) #J per eV\n",
    "\n",
    "## Default values from http://gaussian.com/uvvisplot/\n",
    "## Standard deviation (related to band width) is sigma (stdev) \n",
    "## Default 0.4 eV = 1/3099.6 nm^-1 = 0.00032262\n",
    "## Default 0.4 eV = 10E7/3099.6 cm^-1 = 3226.2 cm^-1\n",
    "const = 1.3062974*10**8\n",
    "sigma_nm = 1/3099.6\n",
    "sigma_cm = 10**7/3099.6\n",
    "\n",
    "def spect_func(x, each_os, each_lambda, const,sigma_cm,sigma_nm):\n",
    "    #6 variables to this function a,b,c,d,e,f to give us a y value\n",
    "    return const*(each_os/sigma_cm)*np.exp(-(((1/x)-(1/each_lambda))/sigma_nm)**2)\n",
    "    #this returns the y value (what the equation itself is equal to)\n",
    "def convert_ev_nm(x):\n",
    "    return planck*c_light/(nm_m*ev_J*x)\n",
    "def shift_ev(x):\n",
    "    return x - 0.6"
   ]
  },
  {
   "cell_type": "code",
   "execution_count": 5,
   "metadata": {},
   "outputs": [
    {
     "data": {
      "text/plain": [
       "<Figure size 432x288 with 0 Axes>"
      ]
     },
     "metadata": {},
     "output_type": "display_data"
    }
   ],
   "source": [
    "data = np.array([\n",
    "    [188.40,0.2563],\n",
    "    [170.63,0.0035],\n",
    "    [168.30,0.0418],\n",
    "    [158.18,0.0036],\n",
    "    [152.06,0.0039],\n",
    "    [150.19,0.0047],\n",
    "    [147.05,0.0943],\n",
    "    [146.76,0.3266],\n",
    "    [143.16,0.0183],\n",
    "    [137.73,0.0225],\n",
    "    [136.72,0.2449],\n",
    "    [135.47,0.0071],\n",
    "    [135.13,0.0018],\n",
    "    [132.61,0.0073],\n",
    "    [132.40,0.0201],\n",
    "        ]) \n",
    "\n",
    "fig = plt.figure()\n"
   ]
  },
  {
   "cell_type": "code",
   "execution_count": 6,
   "metadata": {},
   "outputs": [
    {
     "name": "stdout",
     "output_type": "stream",
     "text": [
      "207.30015840948778\n",
      "185.987636268597\n",
      "183.2227336005674\n",
      "171.29215113311434\n",
      "164.13842058046419\n",
      "161.96167281690845\n",
      "158.31613970375253\n",
      "157.9800519330811\n",
      "153.81636652578536\n",
      "147.56554489450716\n",
      "146.40674928681904\n",
      "144.97427486613807\n",
      "144.58496260510364\n",
      "141.70373925038587\n",
      "141.4639762272164\n",
      "Max peak energy (eV) for overall spectrum =  7.88751\n",
      "Max peak wavelength (nm) for overall spectrum =  157.19064\n",
      "\n",
      "Wavelength and exctinction coefficient corresponding to peak maximum, plus surrounding data points:\n",
      "[[  156.18729097 18982.59728637]\n",
      " [  157.19063545 19088.74603528]\n",
      " [  158.19397993 18809.2103329 ]]\n"
     ]
    },
    {
     "data": {
      "image/png": "[encoded data removed]",
      "text/plain": [
       "<Figure size 432x288 with 1 Axes>"
      ]
     },
     "metadata": {
      "needs_background": "light"
     },
     "output_type": "display_data"
    }
   ],
   "source": [
    "## Calculate the maximum peak according to http://gaussian.com/uvvisplot/\n",
    "#intializing \n",
    "x_axis = np.linspace(100,400,300)\n",
    "#print(x_axis)\n",
    "spectrum = np.zeros(len(x_axis))\n",
    "#print(\"This is spectrum\", spectrum)\n",
    "for i in data:\n",
    "    j = convert_ev_nm(i[0])\n",
    "    #print(\"this is j\", j)\n",
    "    shift = shift_ev(j)\n",
    "    #print(\"this is shift\", shift)\n",
    "    nj = convert_ev_nm(shift)\n",
    "    #print(\"this is nj\", nj) \n",
    "    spectrum_indiv = np.zeros(len(x_axis))\n",
    "    ## uncomment line below if want shift\n",
    "    spectrum_indiv += np.array(spect_func(x_axis, i[1], nj, const,sigma_cm,sigma_nm))\n",
    "    ## comment line below if need shift\n",
    "    #spectrum_indiv += np.array(spect_func(x_axis, i[1], i[0], const,sigma_cm,sigma_nm))\n",
    "    #print(\"this is spectrum_indiv\", spectrum_indiv)    #print(\"this is i\", i[0])\n",
    "    #print(\"this is i[1]\", i[1])\n",
    "       ## Comment the line below if you don't want to plot the spectrum\n",
    "    #plt.plot(x_axis,spectrum_indiv)\n",
    "    print(nj)\n",
    "    spectrum += spectrum_indiv\n",
    "    #print(spectrum)\n",
    "\n",
    "## Comment the line below if you don't want to plot the spectrum\n",
    "plt.plot(x_axis,spectrum,color='green')\n",
    "#plt.plot(x_axis,spect_func(x_axis, data[0,2], data[0,1], const,sigma_cm,sigma_nm))\n",
    "\n",
    "## Determine the wavelength with maximum absorption and select the surrounding data points (+/- 1) in the spectrum\n",
    "spectrum_max = np.amax(spectrum)\n",
    "spect_max_index = np.argmax(spectrum)\n",
    "spect_max_array = np.array([\n",
    "       [x_axis[spect_max_index-1],spectrum[spect_max_index-1]],\n",
    "       [x_axis[spect_max_index],spectrum[spect_max_index]],\n",
    "       [x_axis[spect_max_index+1],spectrum[spect_max_index+1]]\n",
    "               ])\n",
    "\n",
    "print(\"Max peak energy (eV) for overall spectrum = \", '{:1.5f}'.format(convert_ev_nm(x_axis[spect_max_index])))\n",
    "print(\"Max peak wavelength (nm) for overall spectrum = \", '{:3.5f}'.format(x_axis[spect_max_index]))\n",
    "print()\n",
    "print(\"Wavelength and exctinction coefficient corresponding to peak maximum, plus surrounding data points:\")\n",
    "print(spect_max_array)\n",
    "\n",
    "## Comment the line below if you don't want to plot the spectrum\n",
    "plt.xlabel(r\"Wavelength (nm)\")\n",
    "plt.ylabel(r\"Extinction (L mol$^{-1}$ cm$^{-1}$)\")\n",
    "plt.xlim(100.,400.)\n",
    "plt.ylim(0.,40000.)\n",
    "plt.show()\n",
    "\n",
    "fig.tight_layout()\n",
    "fig.set_size_inches(6,5)\n",
    "#fig.savefig('GXL_molecule03_pcm_test0.4ev.png', dpi=600, bbox_inches='tight')\n",
    "\n"
   ]
  },
  {
   "cell_type": "code",
   "execution_count": null,
   "metadata": {},
   "outputs": [],
   "source": []
  }
 ],
 "metadata": {
  "kernelspec": {
   "display_name": "Python 3",
   "language": "python",
   "name": "python3"
  },
  "language_info": {
   "codemirror_mode": {
    "name": "ipython",
    "version": 3
   },
   "file_extension": ".py",
   "mimetype": "text/x-python",
   "name": "python",
   "nbconvert_exporter": "python",
   "pygments_lexer": "ipython3",
   "version": "3.7.1"
  }
 },
 "nbformat": 4,
 "nbformat_minor": 2
}
